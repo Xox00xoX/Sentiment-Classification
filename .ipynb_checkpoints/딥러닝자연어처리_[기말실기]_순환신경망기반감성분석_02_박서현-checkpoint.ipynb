{
 "cells": [
  {
   "cell_type": "markdown",
   "id": "8de7571b",
   "metadata": {},
   "source": [
    "# 웹크롤링실습(딥러닝기반자연어처리) 기말 실기 #2 (2025.06.18)\n",
    "\n",
    "### SemanticAnalyzer 클래스 개발, 감성 분석 진행"
   ]
  },
  {
   "cell_type": "markdown",
   "id": "67843ab9",
   "metadata": {},
   "source": [
    "### 1. SentimentAnalyzer 클래스 개발\n",
    "* 배포한 모델을 로딩하여 사용\n",
    "* 입력된 리뷰(문서)에 대한 감성 분석을 하는 method 제공"
   ]
  },
  {
   "cell_type": "code",
   "execution_count": null,
   "id": "74e507a5",
   "metadata": {},
   "outputs": [],
   "source": []
  },
  {
   "cell_type": "markdown",
   "id": "ccaacb2e",
   "metadata": {},
   "source": [
    "### 2. SentimentAnalyzer 클래스 사용 감성 분석 진행"
   ]
  },
  {
   "cell_type": "code",
   "execution_count": null,
   "id": "07db2bf1",
   "metadata": {},
   "outputs": [],
   "source": [
    "# 테스트 리뷰\n",
    "reviews = [\n",
    "    '재구매 늘 주문해서 먹는 곳이에요! 어제 오후에 주문했는데 오늘오전에 도착했어요~',\n",
    "    '너무 약해서 잘 째지네요. ㅠ',\n",
    "    '바지핏도 별로라 수선해서 입으려 합니다. 싼값에 이유가 있어요.',\n",
    "    '가격대비 정말 만족스러운 제품입니다',\n",
    "    '와 개쩐다',\n",
    "]\n",
    "\n",
    "# 테스크 리뷰별 감성 분석 결과 \"긍정\", \"부정\"만 출력\n"
   ]
  }
 ],
 "metadata": {
  "kernelspec": {
   "display_name": "DeepNLPEnv",
   "language": "python",
   "name": "deepnlpenv"
  },
  "language_info": {
   "codemirror_mode": {
    "name": "ipython",
    "version": 3
   },
   "file_extension": ".py",
   "mimetype": "text/x-python",
   "name": "python",
   "nbconvert_exporter": "python",
   "pygments_lexer": "ipython3",
   "version": "3.9.18"
  }
 },
 "nbformat": 4,
 "nbformat_minor": 5
}
