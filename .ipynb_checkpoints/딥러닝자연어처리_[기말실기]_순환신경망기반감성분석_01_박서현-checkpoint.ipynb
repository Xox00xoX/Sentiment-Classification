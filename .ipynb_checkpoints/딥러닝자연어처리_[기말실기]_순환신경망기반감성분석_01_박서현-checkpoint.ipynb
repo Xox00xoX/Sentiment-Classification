{
 "cells": [
  {
   "cell_type": "markdown",
   "id": "8de7571b",
   "metadata": {},
   "source": [
    "# 웹크롤링실습(딥러닝기반자연어처리) 기말 실기 #1 (2025.06.18)\n",
    "1.주어진 데이터를 이용하여 감성 분석 모델 구축 및 배포\n",
    "    1. 데이터 준비\n",
    "    2. 모델 구축 및 컴파일\n",
    "    3. 모델 학습\n",
    "    4. 모델 평가\n",
    "    5. 예측\n",
    "    6. 배포"
   ]
  },
  {
   "cell_type": "markdown",
   "id": "cabb3011",
   "metadata": {},
   "source": [
    "## 1. 데이터 준비\n",
    "### 1-1. 데이터 로딩"
   ]
  },
  {
   "cell_type": "code",
   "execution_count": 1,
   "id": "a13df476",
   "metadata": {
    "scrolled": true
   },
   "outputs": [
    {
     "name": "stdout",
     "output_type": "stream",
     "text": [
      "   rating                                             review\n",
      "0     5.0                                            배공빠르고 굿\n",
      "1     2.0                      택배가 엉망이네용 저희집 밑에층에 말도없이 놔두고가고\n",
      "2     5.0  아주좋아요 바지 정말 좋아서2개 더 구매했어요 이가격에 대박입니다. 바느질이 조금 ...\n",
      "3     2.0  선물용으로 빨리 받아서 전달했어야 하는 상품이었는데 머그컵만 와서 당황했습니다. 전...\n",
      "4     5.0                  민트색상 예뻐요. 옆 손잡이는 거는 용도로도 사용되네요 ㅎㅎ\n"
     ]
    }
   ],
   "source": [
    "# 주어진 파일에 있는 데이터를 DataFrame으로 로딩 naver_shopping_review.csv\n",
    "import pandas as pd\n",
    "\n",
    "file_path = 'naver_shopping_review.csv'\n",
    "\n",
    "df = pd.read_csv(file_path)\n",
    "\n",
    "print(df.head())"
   ]
  },
  {
   "cell_type": "markdown",
   "id": "b8792572",
   "metadata": {},
   "source": [
    "### 1-2. 데이터 전처리\n",
    "#### 1-2-1. 결측치 제거"
   ]
  },
  {
   "cell_type": "code",
   "execution_count": 3,
   "id": "60322589",
   "metadata": {
    "scrolled": true
   },
   "outputs": [
    {
     "name": "stdout",
     "output_type": "stream",
     "text": [
      "rating    1\n",
      "review    2\n",
      "dtype: int64\n"
     ]
    }
   ],
   "source": [
    "# 결측치 확인\n",
    "print(df.isnull().sum())"
   ]
  },
  {
   "cell_type": "code",
   "execution_count": 5,
   "id": "e19c0d42",
   "metadata": {},
   "outputs": [],
   "source": [
    "# 결측치 제거\n",
    "df_cleaned = df.dropna()"
   ]
  },
  {
   "cell_type": "code",
   "execution_count": 7,
   "id": "cc17bd6b",
   "metadata": {},
   "outputs": [
    {
     "name": "stdout",
     "output_type": "stream",
     "text": [
      "rating    0\n",
      "review    0\n",
      "dtype: int64\n",
      "제거 후 데이터 수: 199997\n"
     ]
    }
   ],
   "source": [
    "# 결측치 제거 결과 확인\n",
    "print(df_cleaned.isnull().sum())\n",
    "print(f\"제거 후 데이터 수: {len(df_cleaned)}\")"
   ]
  },
  {
   "cell_type": "markdown",
   "id": "7724952f",
   "metadata": {},
   "source": [
    "#### 1-2-2. 정제\n",
    "* 한글과 공백을 제외한 문자는 공백으로 치환하여 제거\n",
    "* 한글이 없었던 문장은 공백만 남아있게 되므로, 결측치 삭제 처리 진행 필요"
   ]
  },
  {
   "cell_type": "code",
   "execution_count": 17,
   "id": "c53812f1",
   "metadata": {
    "scrolled": true
   },
   "outputs": [
    {
     "name": "stderr",
     "output_type": "stream",
     "text": [
      "C:\\Users\\User\\AppData\\Local\\Temp\\ipykernel_2372\\4075512934.py:3: SettingWithCopyWarning: \n",
      "A value is trying to be set on a copy of a slice from a DataFrame.\n",
      "Try using .loc[row_indexer,col_indexer] = value instead\n",
      "\n",
      "See the caveats in the documentation: https://pandas.pydata.org/pandas-docs/stable/user_guide/indexing.html#returning-a-view-versus-a-copy\n",
      "  df_cleaned['review'] = df_cleaned['review'].apply(\n",
      "C:\\Users\\User\\AppData\\Local\\Temp\\ipykernel_2372\\4075512934.py:7: SettingWithCopyWarning: \n",
      "A value is trying to be set on a copy of a slice from a DataFrame.\n",
      "Try using .loc[row_indexer,col_indexer] = value instead\n",
      "\n",
      "See the caveats in the documentation: https://pandas.pydata.org/pandas-docs/stable/user_guide/indexing.html#returning-a-view-versus-a-copy\n",
      "  df_cleaned['review'] = df_cleaned['review'].apply(\n",
      "C:\\Users\\User\\AppData\\Local\\Temp\\ipykernel_2372\\4075512934.py:11: SettingWithCopyWarning: \n",
      "A value is trying to be set on a copy of a slice from a DataFrame.\n",
      "Try using .loc[row_indexer,col_indexer] = value instead\n",
      "\n",
      "See the caveats in the documentation: https://pandas.pydata.org/pandas-docs/stable/user_guide/indexing.html#returning-a-view-versus-a-copy\n",
      "  df_cleaned['review'] = df_cleaned['review'].replace('', pd.NA)\n"
     ]
    }
   ],
   "source": [
    "import re\n",
    "\n",
    "# 한글과 공백 제외하고 모두 공백으로 치환\n",
    "df_cleaned.loc[:, 'review'] = df_cleaned['review'].apply(\n",
    "    lambda x: re.sub(r'[^가-힣\\s]', '', x) if isinstance(x, str) else x\n",
    ")\n",
    "\n",
    "# 문장의 시작 부분에 있는 공백을 \"\"으로 치환 \n",
    "df_cleaned.loc[:, 'review'] = df_cleaned['review'].apply(\n",
    "    lambda x: x.lstrip() if isinstance(x, str) else x\n",
    ")\n",
    "\n",
    "# 빈 문자열(\"\")은 결측치로 수정\n",
    "df_cleaned.loc[:, 'review'] = df_cleaned['review'].replace('', pd.NA)\n",
    "\n",
    "df_cleaned = df_cleaned.dropna(subset=['review']).copy()"
   ]
  },
  {
   "cell_type": "code",
   "execution_count": null,
   "id": "d5d12ee2",
   "metadata": {},
   "outputs": [],
   "source": [
    "# 결측치 확인"
   ]
  },
  {
   "cell_type": "code",
   "execution_count": null,
   "id": "eb55beeb",
   "metadata": {},
   "outputs": [],
   "source": [
    "# 결측치 제거"
   ]
  },
  {
   "cell_type": "code",
   "execution_count": null,
   "id": "91306dd1",
   "metadata": {},
   "outputs": [],
   "source": [
    "# 결측치 제거 결과 확인"
   ]
  },
  {
   "cell_type": "markdown",
   "id": "caa52da2",
   "metadata": {},
   "source": [
    "#### 1-2-3. 중복치 제거"
   ]
  },
  {
   "cell_type": "code",
   "execution_count": null,
   "id": "4f919e86",
   "metadata": {},
   "outputs": [],
   "source": [
    "# 같은 리뷰가 있는지 중복치 확인"
   ]
  },
  {
   "cell_type": "code",
   "execution_count": null,
   "id": "e7bb88f4",
   "metadata": {},
   "outputs": [],
   "source": [
    "# 중복치 제거"
   ]
  },
  {
   "cell_type": "code",
   "execution_count": null,
   "id": "36eb7186",
   "metadata": {},
   "outputs": [],
   "source": [
    "# 중복치 확인"
   ]
  },
  {
   "cell_type": "markdown",
   "id": "d7269522",
   "metadata": {},
   "source": [
    "#### 1-2-4. 토큰화"
   ]
  },
  {
   "cell_type": "code",
   "execution_count": null,
   "id": "3dbf7b2f",
   "metadata": {},
   "outputs": [],
   "source": [
    "# 형태소 분석기 적용 (Okt) -> 형태소 분석이 적용되는 진행 상황을 알 수 있게 tqdm 사용하기\n"
   ]
  },
  {
   "cell_type": "markdown",
   "id": "d5fd92ca",
   "metadata": {},
   "source": [
    "#### 1-2-5. 정답 데이터 생성"
   ]
  },
  {
   "cell_type": "code",
   "execution_count": null,
   "id": "cfcb469e",
   "metadata": {},
   "outputs": [],
   "source": [
    "# rating 1, 2는 부정으로, rating 4,5는 긍정으로 정답데이터 생성 -> 잘 생성되었는지 일부 데이터 확인"
   ]
  },
  {
   "cell_type": "markdown",
   "id": "f6921431",
   "metadata": {},
   "source": [
    "### 1-3. 데이터 분리"
   ]
  },
  {
   "cell_type": "code",
   "execution_count": null,
   "id": "dc33c091",
   "metadata": {},
   "outputs": [],
   "source": [
    "# 정답 데이터의 값별 데이터 수 확인\n"
   ]
  },
  {
   "cell_type": "code",
   "execution_count": null,
   "id": "781ea4f3",
   "metadata": {
    "scrolled": true
   },
   "outputs": [],
   "source": [
    "# 막대그래프로 그려보기\n"
   ]
  },
  {
   "cell_type": "code",
   "execution_count": null,
   "id": "68aacf10",
   "metadata": {},
   "outputs": [],
   "source": [
    "# 입력 데이터와 정답 데이터 추출  (list) -> 입력 데이터 수, 정답 데이터 수 출력\n"
   ]
  },
  {
   "cell_type": "code",
   "execution_count": null,
   "id": "cf953a69",
   "metadata": {},
   "outputs": [],
   "source": [
    "# 학습 데이터와 테스트 데이터 분리 (학습 데이터 90%, 테스트 데이터 10%) -> 학습 데이터 수, 테스트 데이터 수 출력\n"
   ]
  },
  {
   "cell_type": "markdown",
   "id": "c3e01a40",
   "metadata": {},
   "source": [
    "### 1-4. 학습 데이터 준비\n",
    "\n",
    "#### 1-4-1. Integer Encoding을 위한 tokenizer 생성"
   ]
  },
  {
   "cell_type": "code",
   "execution_count": null,
   "id": "37b0f3d7",
   "metadata": {},
   "outputs": [],
   "source": [
    "# 단어 수 제한없이 Tokenizer 생성하여 특징 집한의 토큰 수 출력\n"
   ]
  },
  {
   "cell_type": "code",
   "execution_count": null,
   "id": "fe4488b0",
   "metadata": {},
   "outputs": [],
   "source": [
    "# 등장 빈도수를 threshold로 설정하여 버릴 단어가 차지하는 비율 확인\n",
    "\n",
    "\n",
    "\n",
    "print(f\"단어 전체 :  개     번\")\n",
    "print(f\"희귀 단어 : 개(  %) 번( %)\")\n",
    "print(f\"사용할 단어 : 개 ( %)\")"
   ]
  },
  {
   "cell_type": "code",
   "execution_count": null,
   "id": "764cb542",
   "metadata": {},
   "outputs": [],
   "source": [
    "# 단어 수를 제한하여 tokenizer 생성 -> 생성된 토큰 수 (특징 집합의 원소 수) 출력\n"
   ]
  },
  {
   "cell_type": "markdown",
   "id": "3a282db3",
   "metadata": {},
   "source": [
    "#### 1-4-2. 입력 데이터 Integer Encoding"
   ]
  },
  {
   "cell_type": "code",
   "execution_count": null,
   "id": "52f7ed9f",
   "metadata": {},
   "outputs": [],
   "source": [
    "# 입력 데이터 Integer Encoding -> 결과 데이터 처음부터 3개 출력하여 확인\n"
   ]
  },
  {
   "cell_type": "code",
   "execution_count": null,
   "id": "cba436f3",
   "metadata": {},
   "outputs": [],
   "source": [
    "# 길이가 0인 리뷰의 index 추출하여 리스트로 구성 -> 리스트의 원소 갯수 출력\n"
   ]
  },
  {
   "cell_type": "code",
   "execution_count": null,
   "id": "802b0954",
   "metadata": {},
   "outputs": [],
   "source": [
    "# 길이가 0인 리뷰가 있는 경우, 길이가 1 이상인 리뷰로 학습데이터 재구성 -> 훈련 데이터, 테스트 데이터 갯수 확인\n"
   ]
  },
  {
   "cell_type": "markdown",
   "id": "09033652",
   "metadata": {},
   "source": [
    "#### 1-4-3. 입력 데이터 padding"
   ]
  },
  {
   "cell_type": "code",
   "execution_count": null,
   "id": "3f40db7e",
   "metadata": {
    "scrolled": true
   },
   "outputs": [],
   "source": [
    "# 리뷰 길이 분포 확인 (히스토그램 그려보기)\n"
   ]
  },
  {
   "cell_type": "code",
   "execution_count": null,
   "id": "faac5ded",
   "metadata": {},
   "outputs": [],
   "source": [
    "# 최대, 최소, 평균 등 기술 통계 정보 확인\n"
   ]
  },
  {
   "cell_type": "code",
   "execution_count": null,
   "id": "5726a596",
   "metadata": {},
   "outputs": [],
   "source": [
    "# 길이가 max_len 이하인 데이터의 비중 확인\n",
    "max_len = \n",
    "\n",
    "\n",
    "\n",
    "print(f'길이가 {max_len} 이하인 데이터의 비율:          %')"
   ]
  },
  {
   "cell_type": "code",
   "execution_count": null,
   "id": "535a4987",
   "metadata": {},
   "outputs": [],
   "source": [
    "# max_len 길이로 입력 데이터 padding -> 결과 데이터 처음부터 5개 출력하여 확인\n"
   ]
  },
  {
   "cell_type": "markdown",
   "id": "7d632d2b",
   "metadata": {},
   "source": [
    "#### 1-4-4. 정답 데이터 one-hot encoding"
   ]
  },
  {
   "cell_type": "code",
   "execution_count": null,
   "id": "92102a0d",
   "metadata": {},
   "outputs": [],
   "source": [
    "# 정답 데이터 one-hot encoding -> 결과 데이터 처음부터 5개 출력하여 확인\n"
   ]
  },
  {
   "cell_type": "markdown",
   "id": "92787cd0",
   "metadata": {},
   "source": [
    "### 1-5. 테스트 데이터 준비"
   ]
  },
  {
   "cell_type": "code",
   "execution_count": null,
   "id": "eb1582d6",
   "metadata": {},
   "outputs": [],
   "source": [
    "# 입력 데이터 Integer Encoding -> 결과 데이터 처음부터 3개 출력하여 확인\n"
   ]
  },
  {
   "cell_type": "code",
   "execution_count": null,
   "id": "1143073d",
   "metadata": {},
   "outputs": [],
   "source": [
    "# 길이가 0인 데이터 index 추출하여 리스트로 구성 -> 리스트 내의 원소 수 출력\n"
   ]
  },
  {
   "cell_type": "code",
   "execution_count": null,
   "id": "074cc393",
   "metadata": {},
   "outputs": [],
   "source": [
    "# 입력 데이터 padding -> 결과 데이터 처음부터 5개 출력하여 확인\n"
   ]
  },
  {
   "cell_type": "code",
   "execution_count": null,
   "id": "c90bb710",
   "metadata": {
    "scrolled": true
   },
   "outputs": [],
   "source": [
    "# 정답 데이터 one-hot encoding -> 결과 데이터 처음부터 5개 출력하여 확인\n"
   ]
  },
  {
   "cell_type": "markdown",
   "id": "74e512a8",
   "metadata": {},
   "source": [
    "## 2. 모델 구축 및 컴파일"
   ]
  },
  {
   "cell_type": "code",
   "execution_count": null,
   "id": "8763cb47",
   "metadata": {},
   "outputs": [],
   "source": [
    "# 모델 설계 및 생성 -> summary 출력\n"
   ]
  },
  {
   "cell_type": "code",
   "execution_count": null,
   "id": "cf63175c",
   "metadata": {},
   "outputs": [],
   "source": [
    "# 모델 컴파일\n"
   ]
  },
  {
   "cell_type": "markdown",
   "id": "4cd35305",
   "metadata": {},
   "source": [
    "## 3. 모델 학습"
   ]
  },
  {
   "cell_type": "code",
   "execution_count": null,
   "id": "f062c45a",
   "metadata": {},
   "outputs": [],
   "source": [
    "# 조기 종료 설정 (validation data의 loss 기준 3회 감소하지 않으면 종료, 학습 과정 출력)\n",
    "\n",
    "\n",
    "# 모델 중간 저장 설정 (validation data의 loss 기준 가장 좋은 모델만 저장)\n",
    "\n",
    "\n",
    "# 모델 학습 \n"
   ]
  },
  {
   "cell_type": "markdown",
   "id": "bcf55bfb",
   "metadata": {},
   "source": [
    "## 4. 모델 평가"
   ]
  },
  {
   "cell_type": "code",
   "execution_count": null,
   "id": "2d6c119d",
   "metadata": {},
   "outputs": [],
   "source": [
    "# 저장된 모델 로딩하여, 테스트 데이터로 평가 -> accurray 출력\n"
   ]
  },
  {
   "cell_type": "code",
   "execution_count": null,
   "id": "79f0607f",
   "metadata": {},
   "outputs": [],
   "source": [
    "# predict로 테스트 데이터 전체에 대한 예측값 구하기 (predicts 변수에 저장)\n"
   ]
  },
  {
   "cell_type": "code",
   "execution_count": null,
   "id": "c3684da1",
   "metadata": {},
   "outputs": [],
   "source": [
    "# predicts 변수에 있는 테스트 데이터 결과값을 이용하여 classification_report()로 평가 결과 확인\n"
   ]
  },
  {
   "cell_type": "markdown",
   "id": "98bb517e",
   "metadata": {},
   "source": [
    "## 5. 예측"
   ]
  },
  {
   "cell_type": "code",
   "execution_count": null,
   "id": "2c6c3e88",
   "metadata": {},
   "outputs": [],
   "source": [
    "# 입력된 리뷰에 대한 긍부정 판단 함수\n"
   ]
  },
  {
   "cell_type": "code",
   "execution_count": null,
   "id": "b90bc3bb",
   "metadata": {
    "scrolled": true
   },
   "outputs": [],
   "source": [
    "# 함수 테스트\n",
    "reviews = [\n",
    "    '재구매 늘 주문해서 먹는 곳이에요! 어제 오후에 주문했는데 오늘오전에 도착했어요~',\n",
    "    '너무 약해서 잘 째지네요. ㅠ',\n",
    "    '바지핏도 별로라 수선해서 입으려 합니다. 싼값에 이유가 있어요.',\n",
    "    '가격대비 정말 만족스러운 제품입니다',\n",
    "    '와 개쩐다',\n",
    "]\n",
    "\n"
   ]
  },
  {
   "cell_type": "markdown",
   "id": "6b1a9cc0",
   "metadata": {},
   "source": [
    "## 6. 배포 (모델 저장)"
   ]
  },
  {
   "cell_type": "code",
   "execution_count": null,
   "id": "e410dbf8",
   "metadata": {},
   "outputs": [],
   "source": [
    "# keras 학습 모델저장 (sa_model_영문이름.keras)\n"
   ]
  },
  {
   "cell_type": "code",
   "execution_count": null,
   "id": "5ddcb005",
   "metadata": {},
   "outputs": [],
   "source": [
    "# Integer Encoding을 위한 파이썬 객체 직렬화 (sa_encoder_영문이름.pkl)\n",
    "\n"
   ]
  }
 ],
 "metadata": {
  "kernelspec": {
   "display_name": "Python (LangchainEnv)",
   "language": "python",
   "name": "langchainenv"
  },
  "language_info": {
   "codemirror_mode": {
    "name": "ipython",
    "version": 3
   },
   "file_extension": ".py",
   "mimetype": "text/x-python",
   "name": "python",
   "nbconvert_exporter": "python",
   "pygments_lexer": "ipython3",
   "version": "3.12.11"
  }
 },
 "nbformat": 4,
 "nbformat_minor": 5
}
